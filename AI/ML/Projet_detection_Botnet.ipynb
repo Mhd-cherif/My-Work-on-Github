{
 "cells": [
  {
   "cell_type": "code",
   "execution_count": 22,
   "id": "92558696-7022-42d4-a93e-0f9aad67cf1f",
   "metadata": {},
   "outputs": [
    {
     "data": {
      "text/html": [
       "<div>\n",
       "<style scoped>\n",
       "    .dataframe tbody tr th:only-of-type {\n",
       "        vertical-align: middle;\n",
       "    }\n",
       "\n",
       "    .dataframe tbody tr th {\n",
       "        vertical-align: top;\n",
       "    }\n",
       "\n",
       "    .dataframe thead th {\n",
       "        text-align: right;\n",
       "    }\n",
       "</style>\n",
       "<table border=\"1\" class=\"dataframe\">\n",
       "  <thead>\n",
       "    <tr style=\"text-align: right;\">\n",
       "      <th></th>\n",
       "      <th>REMOTE_PORT</th>\n",
       "      <th>LATENCY</th>\n",
       "      <th>THROUGHPUT</th>\n",
       "      <th>ANOMALY</th>\n",
       "    </tr>\n",
       "  </thead>\n",
       "  <tbody>\n",
       "    <tr>\n",
       "      <th>0</th>\n",
       "      <td>21</td>\n",
       "      <td>15.942875</td>\n",
       "      <td>16.202998</td>\n",
       "      <td>0</td>\n",
       "    </tr>\n",
       "    <tr>\n",
       "      <th>1</th>\n",
       "      <td>20</td>\n",
       "      <td>12.666451</td>\n",
       "      <td>15.899084</td>\n",
       "      <td>1</td>\n",
       "    </tr>\n",
       "    <tr>\n",
       "      <th>2</th>\n",
       "      <td>80</td>\n",
       "      <td>13.894550</td>\n",
       "      <td>12.958008</td>\n",
       "      <td>0</td>\n",
       "    </tr>\n",
       "    <tr>\n",
       "      <th>3</th>\n",
       "      <td>21</td>\n",
       "      <td>13.620813</td>\n",
       "      <td>15.459475</td>\n",
       "      <td>0</td>\n",
       "    </tr>\n",
       "    <tr>\n",
       "      <th>4</th>\n",
       "      <td>21</td>\n",
       "      <td>15.705485</td>\n",
       "      <td>15.339565</td>\n",
       "      <td>0</td>\n",
       "    </tr>\n",
       "    <tr>\n",
       "      <th>5</th>\n",
       "      <td>23</td>\n",
       "      <td>15.593190</td>\n",
       "      <td>15.612381</td>\n",
       "      <td>0</td>\n",
       "    </tr>\n",
       "    <tr>\n",
       "      <th>6</th>\n",
       "      <td>21</td>\n",
       "      <td>15.489068</td>\n",
       "      <td>15.640874</td>\n",
       "      <td>0</td>\n",
       "    </tr>\n",
       "    <tr>\n",
       "      <th>7</th>\n",
       "      <td>80</td>\n",
       "      <td>15.527048</td>\n",
       "      <td>15.635680</td>\n",
       "      <td>0</td>\n",
       "    </tr>\n",
       "    <tr>\n",
       "      <th>8</th>\n",
       "      <td>21</td>\n",
       "      <td>14.075067</td>\n",
       "      <td>15.765315</td>\n",
       "      <td>0</td>\n",
       "    </tr>\n",
       "    <tr>\n",
       "      <th>9</th>\n",
       "      <td>53</td>\n",
       "      <td>12.953650</td>\n",
       "      <td>15.823285</td>\n",
       "      <td>0</td>\n",
       "    </tr>\n",
       "  </tbody>\n",
       "</table>\n",
       "</div>"
      ],
      "text/plain": [
       "   REMOTE_PORT    LATENCY  THROUGHPUT  ANOMALY\n",
       "0           21  15.942875   16.202998        0\n",
       "1           20  12.666451   15.899084        1\n",
       "2           80  13.894550   12.958008        0\n",
       "3           21  13.620813   15.459475        0\n",
       "4           21  15.705485   15.339565        0\n",
       "5           23  15.593190   15.612381        0\n",
       "6           21  15.489068   15.640874        0\n",
       "7           80  15.527048   15.635680        0\n",
       "8           21  14.075067   15.765315        0\n",
       "9           53  12.953650   15.823285        0"
      ]
     },
     "execution_count": 22,
     "metadata": {},
     "output_type": "execute_result"
    }
   ],
   "source": [
    "import pandas as pd\n",
    "import seaborn as sns\n",
    "import matplotlib.pyplot as plt\n",
    "from sklearn.model_selection import train_test_split\n",
    "from sklearn.preprocessing import StandardScaler\n",
    "from sklearn.neighbors import KNeighborsClassifier\n",
    "from sklearn.tree import DecisionTreeClassifier\n",
    "from sklearn.naive_bayes import GaussianNB\n",
    "from sklearn.metrics import accuracy_score, classification_report\n",
    "df = pd.read_csv(\"network-logs.csv\")\n",
    "df.head(10)"
   ]
  },
  {
   "cell_type": "code",
   "execution_count": 23,
   "id": "ad37c4b5-61f7-4f29-bdb2-36c9fe482380",
   "metadata": {},
   "outputs": [
    {
     "data": {
      "text/plain": [
       "(405, 4)"
      ]
     },
     "execution_count": 23,
     "metadata": {},
     "output_type": "execute_result"
    }
   ],
   "source": [
    "# Dimensionnement\n",
    "df.shape"
   ]
  },
  {
   "cell_type": "code",
   "execution_count": 24,
   "id": "fd9990bf-91e3-4089-81f9-ba058bbf97be",
   "metadata": {},
   "outputs": [
    {
     "data": {
      "text/plain": [
       "REMOTE_PORT    0\n",
       "LATENCY        0\n",
       "THROUGHPUT     0\n",
       "ANOMALY        0\n",
       "dtype: int64"
      ]
     },
     "execution_count": 24,
     "metadata": {},
     "output_type": "execute_result"
    }
   ],
   "source": [
    "# Gestion des valeurs manquantes\n",
    "df.isna().sum()"
   ]
  },
  {
   "cell_type": "code",
   "execution_count": 25,
   "id": "2215b1f7-b013-476e-9b40-e9588ca4e85f",
   "metadata": {},
   "outputs": [
    {
     "name": "stdout",
     "output_type": "stream",
     "text": [
      "None\n"
     ]
    }
   ],
   "source": [
    "# Gestion des doublons\n",
    "doublons = df.drop_duplicates(inplace = True)\n",
    "print(doublons)"
   ]
  },
  {
   "cell_type": "code",
   "execution_count": 26,
   "id": "1af67810-ecc1-43ac-af71-10472691ee2b",
   "metadata": {},
   "outputs": [
    {
     "data": {
      "text/html": [
       "<div>\n",
       "<style scoped>\n",
       "    .dataframe tbody tr th:only-of-type {\n",
       "        vertical-align: middle;\n",
       "    }\n",
       "\n",
       "    .dataframe tbody tr th {\n",
       "        vertical-align: top;\n",
       "    }\n",
       "\n",
       "    .dataframe thead th {\n",
       "        text-align: right;\n",
       "    }\n",
       "</style>\n",
       "<table border=\"1\" class=\"dataframe\">\n",
       "  <thead>\n",
       "    <tr style=\"text-align: right;\">\n",
       "      <th></th>\n",
       "      <th>REMOTE_PORT</th>\n",
       "      <th>LATENCY</th>\n",
       "      <th>THROUGHPUT</th>\n",
       "      <th>ANOMALY</th>\n",
       "    </tr>\n",
       "  </thead>\n",
       "  <tbody>\n",
       "    <tr>\n",
       "      <th>count</th>\n",
       "      <td>307.000000</td>\n",
       "      <td>307.000000</td>\n",
       "      <td>307.000000</td>\n",
       "      <td>307.000000</td>\n",
       "    </tr>\n",
       "    <tr>\n",
       "      <th>mean</th>\n",
       "      <td>65.019544</td>\n",
       "      <td>14.438806</td>\n",
       "      <td>15.361489</td>\n",
       "      <td>0.029316</td>\n",
       "    </tr>\n",
       "    <tr>\n",
       "      <th>std</th>\n",
       "      <td>107.987622</td>\n",
       "      <td>1.506990</td>\n",
       "      <td>1.270218</td>\n",
       "      <td>0.168966</td>\n",
       "    </tr>\n",
       "    <tr>\n",
       "      <th>min</th>\n",
       "      <td>20.000000</td>\n",
       "      <td>4.752613</td>\n",
       "      <td>4.126232</td>\n",
       "      <td>0.000000</td>\n",
       "    </tr>\n",
       "    <tr>\n",
       "      <th>25%</th>\n",
       "      <td>21.000000</td>\n",
       "      <td>13.403351</td>\n",
       "      <td>15.197528</td>\n",
       "      <td>0.000000</td>\n",
       "    </tr>\n",
       "    <tr>\n",
       "      <th>50%</th>\n",
       "      <td>21.000000</td>\n",
       "      <td>15.015778</td>\n",
       "      <td>15.528906</td>\n",
       "      <td>0.000000</td>\n",
       "    </tr>\n",
       "    <tr>\n",
       "      <th>75%</th>\n",
       "      <td>80.000000</td>\n",
       "      <td>15.456936</td>\n",
       "      <td>15.841982</td>\n",
       "      <td>0.000000</td>\n",
       "    </tr>\n",
       "    <tr>\n",
       "      <th>max</th>\n",
       "      <td>443.000000</td>\n",
       "      <td>23.339868</td>\n",
       "      <td>24.350407</td>\n",
       "      <td>1.000000</td>\n",
       "    </tr>\n",
       "  </tbody>\n",
       "</table>\n",
       "</div>"
      ],
      "text/plain": [
       "       REMOTE_PORT     LATENCY  THROUGHPUT     ANOMALY\n",
       "count   307.000000  307.000000  307.000000  307.000000\n",
       "mean     65.019544   14.438806   15.361489    0.029316\n",
       "std     107.987622    1.506990    1.270218    0.168966\n",
       "min      20.000000    4.752613    4.126232    0.000000\n",
       "25%      21.000000   13.403351   15.197528    0.000000\n",
       "50%      21.000000   15.015778   15.528906    0.000000\n",
       "75%      80.000000   15.456936   15.841982    0.000000\n",
       "max     443.000000   23.339868   24.350407    1.000000"
      ]
     },
     "execution_count": 26,
     "metadata": {},
     "output_type": "execute_result"
    }
   ],
   "source": [
    "df.describe()"
   ]
  },
  {
   "cell_type": "code",
   "execution_count": 27,
   "id": "d7d31c9e-186b-401d-a1a6-2007b4d2b412",
   "metadata": {},
   "outputs": [
    {
     "name": "stderr",
     "output_type": "stream",
     "text": [
      "C:\\Users\\mcher\\anaconda3\\Lib\\site-packages\\seaborn\\_oldcore.py:1498: FutureWarning: is_categorical_dtype is deprecated and will be removed in a future version. Use isinstance(dtype, CategoricalDtype) instead\n",
      "  if pd.api.types.is_categorical_dtype(vector):\n",
      "C:\\Users\\mcher\\anaconda3\\Lib\\site-packages\\seaborn\\_oldcore.py:1498: FutureWarning: is_categorical_dtype is deprecated and will be removed in a future version. Use isinstance(dtype, CategoricalDtype) instead\n",
      "  if pd.api.types.is_categorical_dtype(vector):\n",
      "C:\\Users\\mcher\\anaconda3\\Lib\\site-packages\\seaborn\\_oldcore.py:1498: FutureWarning: is_categorical_dtype is deprecated and will be removed in a future version. Use isinstance(dtype, CategoricalDtype) instead\n",
      "  if pd.api.types.is_categorical_dtype(vector):\n",
      "C:\\Users\\mcher\\anaconda3\\Lib\\site-packages\\seaborn\\_oldcore.py:1498: FutureWarning: is_categorical_dtype is deprecated and will be removed in a future version. Use isinstance(dtype, CategoricalDtype) instead\n",
      "  if pd.api.types.is_categorical_dtype(vector):\n"
     ]
    },
    {
     "data": {
      "image/png": "[encoded data removed]",
      "text/plain": [
       "<Figure size 1000x600 with 1 Axes>"
      ]
     },
     "metadata": {},
     "output_type": "display_data"
    }
   ],
   "source": [
    "#Visualisation des distributions de fréquences\n",
    "# Créer une nouvelle figure avec une taille personnalisée\n",
    "plt.figure(figsize=(10, 6))  # 10 pouces de largeur, 6 pouces de hauteur\n",
    "\n",
    "# Visualisation des distributions de fréquences avec un espace de 1 cm entre les bandes\n",
    "sns.countplot(df)\n",
    "plt.subplots_adjust(hspace=1.0)  # Espacement de 1 cm entre les bandes\n",
    "\n",
    "# Faire pivoter les étiquettes à 45 degrés\n",
    "plt.xticks(rotation=45)\n",
    "\n",
    "# Réduire la taille de police des étiquettes\n",
    "plt.xticks(fontsize=8)\n",
    "\n",
    "# Ajuster l'espacement entre les étiquettes\n",
    "plt.tight_layout()\n",
    "# Afficher le graphique\n",
    "plt.show()"
   ]
  },
  {
   "cell_type": "code",
   "execution_count": 28,
   "id": "ae655a32-a078-4679-8a1a-cc693a026f99",
   "metadata": {},
   "outputs": [],
   "source": [
    "# Séparation des features de la target (ANOMALY)\n",
    "X = df.iloc[:,:-1]\n",
    "Y = df.iloc[:,-1]"
   ]
  },
  {
   "cell_type": "code",
   "execution_count": 29,
   "id": "700fe748-1100-4f42-8876-881de9552701",
   "metadata": {},
   "outputs": [],
   "source": [
    "# # Standardisation des caractéristiques\n",
    "# scaler = StandardScaler()\n",
    "# features_scaled = scaler.fit_transform(X)"
   ]
  },
  {
   "cell_type": "code",
   "execution_count": 30,
   "id": "6797abb6-81e0-4bf7-8c78-0fe8a5358b36",
   "metadata": {},
   "outputs": [],
   "source": [
    "# Diviser le dataset en données d'entrainement et de test\n",
    "X_train,X_test,Y_train,Y_test = train_test_split(X,Y,test_size=0.3, random_state=31)"
   ]
  },
  {
   "cell_type": "code",
   "execution_count": 31,
   "id": "0b261ce8-f3bb-4b10-8b37-cca593766f34",
   "metadata": {},
   "outputs": [
    {
     "data": {
      "text/html": [
       "<style>#sk-container-id-2 {color: black;}#sk-container-id-2 pre{padding: 0;}#sk-container-id-2 div.sk-toggleable {background-color: white;}#sk-container-id-2 label.sk-toggleable__label {cursor: pointer;display: block;width: 100%;margin-bottom: 0;padding: 0.3em;box-sizing: border-box;text-align: center;}#sk-container-id-2 label.sk-toggleable__label-arrow:before {content: \"▸\";float: left;margin-right: 0.25em;color: #696969;}#sk-container-id-2 label.sk-toggleable__label-arrow:hover:before {color: black;}#sk-container-id-2 div.sk-estimator:hover label.sk-toggleable__label-arrow:before {color: black;}#sk-container-id-2 div.sk-toggleable__content {max-height: 0;max-width: 0;overflow: hidden;text-align: left;background-color: #f0f8ff;}#sk-container-id-2 div.sk-toggleable__content pre {margin: 0.2em;color: black;border-radius: 0.25em;background-color: #f0f8ff;}#sk-container-id-2 input.sk-toggleable__control:checked~div.sk-toggleable__content {max-height: 200px;max-width: 100%;overflow: auto;}#sk-container-id-2 input.sk-toggleable__control:checked~label.sk-toggleable__label-arrow:before {content: \"▾\";}#sk-container-id-2 div.sk-estimator input.sk-toggleable__control:checked~label.sk-toggleable__label {background-color: #d4ebff;}#sk-container-id-2 div.sk-label input.sk-toggleable__control:checked~label.sk-toggleable__label {background-color: #d4ebff;}#sk-container-id-2 input.sk-hidden--visually {border: 0;clip: rect(1px 1px 1px 1px);clip: rect(1px, 1px, 1px, 1px);height: 1px;margin: -1px;overflow: hidden;padding: 0;position: absolute;width: 1px;}#sk-container-id-2 div.sk-estimator {font-family: monospace;background-color: #f0f8ff;border: 1px dotted black;border-radius: 0.25em;box-sizing: border-box;margin-bottom: 0.5em;}#sk-container-id-2 div.sk-estimator:hover {background-color: #d4ebff;}#sk-container-id-2 div.sk-parallel-item::after {content: \"\";width: 100%;border-bottom: 1px solid gray;flex-grow: 1;}#sk-container-id-2 div.sk-label:hover label.sk-toggleable__label {background-color: #d4ebff;}#sk-container-id-2 div.sk-serial::before {content: \"\";position: absolute;border-left: 1px solid gray;box-sizing: border-box;top: 0;bottom: 0;left: 50%;z-index: 0;}#sk-container-id-2 div.sk-serial {display: flex;flex-direction: column;align-items: center;background-color: white;padding-right: 0.2em;padding-left: 0.2em;position: relative;}#sk-container-id-2 div.sk-item {position: relative;z-index: 1;}#sk-container-id-2 div.sk-parallel {display: flex;align-items: stretch;justify-content: center;background-color: white;position: relative;}#sk-container-id-2 div.sk-item::before, #sk-container-id-2 div.sk-parallel-item::before {content: \"\";position: absolute;border-left: 1px solid gray;box-sizing: border-box;top: 0;bottom: 0;left: 50%;z-index: -1;}#sk-container-id-2 div.sk-parallel-item {display: flex;flex-direction: column;z-index: 1;position: relative;background-color: white;}#sk-container-id-2 div.sk-parallel-item:first-child::after {align-self: flex-end;width: 50%;}#sk-container-id-2 div.sk-parallel-item:last-child::after {align-self: flex-start;width: 50%;}#sk-container-id-2 div.sk-parallel-item:only-child::after {width: 0;}#sk-container-id-2 div.sk-dashed-wrapped {border: 1px dashed gray;margin: 0 0.4em 0.5em 0.4em;box-sizing: border-box;padding-bottom: 0.4em;background-color: white;}#sk-container-id-2 div.sk-label label {font-family: monospace;font-weight: bold;display: inline-block;line-height: 1.2em;}#sk-container-id-2 div.sk-label-container {text-align: center;}#sk-container-id-2 div.sk-container {/* jupyter's `normalize.less` sets `[hidden] { display: none; }` but bootstrap.min.css set `[hidden] { display: none !important; }` so we also need the `!important` here to be able to override the default hidden behavior on the sphinx rendered scikit-learn.org. See: https://github.com/scikit-learn/scikit-learn/issues/21755 */display: inline-block !important;position: relative;}#sk-container-id-2 div.sk-text-repr-fallback {display: none;}</style><div id=\"sk-container-id-2\" class=\"sk-top-container\"><div class=\"sk-text-repr-fallback\"><pre>GaussianNB()</pre><b>In a Jupyter environment, please rerun this cell to show the HTML representation or trust the notebook. <br />On GitHub, the HTML representation is unable to render, please try loading this page with nbviewer.org.</b></div><div class=\"sk-container\" hidden><div class=\"sk-item\"><div class=\"sk-estimator sk-toggleable\"><input class=\"sk-toggleable__control sk-hidden--visually\" id=\"sk-estimator-id-2\" type=\"checkbox\" checked><label for=\"sk-estimator-id-2\" class=\"sk-toggleable__label sk-toggleable__label-arrow\">GaussianNB</label><div class=\"sk-toggleable__content\"><pre>GaussianNB()</pre></div></div></div></div></div>"
      ],
      "text/plain": [
       "GaussianNB()"
      ]
     },
     "execution_count": 31,
     "metadata": {},
     "output_type": "execute_result"
    }
   ],
   "source": [
    "# Entrainement des modèles\n",
    "# KNN\n",
    "knn_model = KNeighborsClassifier()\n",
    "knn_model.fit(X_train, Y_train)\n",
    "\n",
    "# Decision Tree\n",
    "dt_model = DecisionTreeClassifier()\n",
    "dt_model.fit(X_train, Y_train)\n",
    "\n",
    "# Naive Bayes\n",
    "nb_model = GaussianNB()\n",
    "nb_model.fit(X_train, Y_train)"
   ]
  },
  {
   "cell_type": "code",
   "execution_count": 32,
   "id": "840ef9d6-f17f-4ae4-9716-82949ac0433c",
   "metadata": {},
   "outputs": [],
   "source": [
    "# Prédiction avec les modèles\n",
    "# KNN\n",
    "knn_pred = knn_model.predict(X_test)\n",
    "\n",
    "# Decision Tree\n",
    "dt_pred = dt_model.predict(X_test)\n",
    "\n",
    "# Naive Bayes\n",
    "nb_pred = dt_model.predict(X_test)"
   ]
  },
  {
   "cell_type": "code",
   "execution_count": 33,
   "id": "b0d3fd0e-bdd2-4fbd-b12e-36d367f33270",
   "metadata": {},
   "outputs": [
    {
     "name": "stdout",
     "output_type": "stream",
     "text": [
      "KNN Accuracy: 0.978494623655914\n",
      "              precision    recall  f1-score   support\n",
      "\n",
      "           0       0.98      1.00      0.99        91\n",
      "           1       0.00      0.00      0.00         2\n",
      "\n",
      "    accuracy                           0.98        93\n",
      "   macro avg       0.49      0.50      0.49        93\n",
      "weighted avg       0.96      0.98      0.97        93\n",
      "\n",
      "Decision Tree Accuracy: 0.989247311827957\n",
      "              precision    recall  f1-score   support\n",
      "\n",
      "           0       0.99      1.00      0.99        91\n",
      "           1       1.00      0.50      0.67         2\n",
      "\n",
      "    accuracy                           0.99        93\n",
      "   macro avg       0.99      0.75      0.83        93\n",
      "weighted avg       0.99      0.99      0.99        93\n",
      "\n",
      "Naive Bayes Accuracy: 0.989247311827957\n",
      "              precision    recall  f1-score   support\n",
      "\n",
      "           0       0.99      1.00      0.99        91\n",
      "           1       1.00      0.50      0.67         2\n",
      "\n",
      "    accuracy                           0.99        93\n",
      "   macro avg       0.99      0.75      0.83        93\n",
      "weighted avg       0.99      0.99      0.99        93\n",
      "\n"
     ]
    },
    {
     "name": "stderr",
     "output_type": "stream",
     "text": [
      "C:\\Users\\mcher\\anaconda3\\Lib\\site-packages\\sklearn\\metrics\\_classification.py:1469: UndefinedMetricWarning: Precision and F-score are ill-defined and being set to 0.0 in labels with no predicted samples. Use `zero_division` parameter to control this behavior.\n",
      "  _warn_prf(average, modifier, msg_start, len(result))\n",
      "C:\\Users\\mcher\\anaconda3\\Lib\\site-packages\\sklearn\\metrics\\_classification.py:1469: UndefinedMetricWarning: Precision and F-score are ill-defined and being set to 0.0 in labels with no predicted samples. Use `zero_division` parameter to control this behavior.\n",
      "  _warn_prf(average, modifier, msg_start, len(result))\n",
      "C:\\Users\\mcher\\anaconda3\\Lib\\site-packages\\sklearn\\metrics\\_classification.py:1469: UndefinedMetricWarning: Precision and F-score are ill-defined and being set to 0.0 in labels with no predicted samples. Use `zero_division` parameter to control this behavior.\n",
      "  _warn_prf(average, modifier, msg_start, len(result))\n"
     ]
    }
   ],
   "source": [
    "# Évaluation des performances des modèles\n",
    "# KNN\n",
    "knn_accuracy = accuracy_score(Y_test, knn_pred)\n",
    "print(\"KNN Accuracy:\", knn_accuracy)\n",
    "print(classification_report(Y_test, knn_pred))\n",
    "\n",
    "# Decision Tree\n",
    "dt_accuracy = accuracy_score(Y_test, dt_pred)\n",
    "print(\"Decision Tree Accuracy:\", dt_accuracy)\n",
    "print(classification_report(Y_test, dt_pred))\n",
    "\n",
    "# Naive Bayes\n",
    "nb_accuracy = accuracy_score(Y_test, dt_pred)\n",
    "print(\"Naive Bayes Accuracy:\", dt_accuracy)\n",
    "print(classification_report(Y_test, dt_pred))"
   ]
  },
  {
   "cell_type": "code",
   "execution_count": 34,
   "id": "740be47e-be99-4e9e-b928-b3de3d81c1dd",
   "metadata": {},
   "outputs": [
    {
     "name": "stderr",
     "output_type": "stream",
     "text": [
      "C:\\Users\\mcher\\anaconda3\\Lib\\site-packages\\seaborn\\_oldcore.py:1498: FutureWarning: is_categorical_dtype is deprecated and will be removed in a future version. Use isinstance(dtype, CategoricalDtype) instead\n",
      "  if pd.api.types.is_categorical_dtype(vector):\n",
      "C:\\Users\\mcher\\anaconda3\\Lib\\site-packages\\seaborn\\_oldcore.py:1498: FutureWarning: is_categorical_dtype is deprecated and will be removed in a future version. Use isinstance(dtype, CategoricalDtype) instead\n",
      "  if pd.api.types.is_categorical_dtype(vector):\n",
      "C:\\Users\\mcher\\anaconda3\\Lib\\site-packages\\seaborn\\_oldcore.py:1498: FutureWarning: is_categorical_dtype is deprecated and will be removed in a future version. Use isinstance(dtype, CategoricalDtype) instead\n",
      "  if pd.api.types.is_categorical_dtype(vector):\n"
     ]
    },
    {
     "data": {
      "text/plain": [
       "<Axes: xlabel='ANOMALY', ylabel='count'>"
      ]
     },
     "execution_count": 34,
     "metadata": {},
     "output_type": "execute_result"
    },
    {
     "data": {
      "image/png": "[encoded data removed]",
      "text/plain": [
       "<Figure size 640x480 with 1 Axes>"
      ]
     },
     "metadata": {},
     "output_type": "display_data"
    }
   ],
   "source": [
    "# Distribution de la variable cible \"ANOMALY\"\n",
    "sns.countplot(x='ANOMALY', data=df)"
   ]
  },
  {
   "cell_type": "code",
   "execution_count": 43,
   "id": "5a1ddd54-354f-4ec6-8aa5-4835d82a0798",
   "metadata": {},
   "outputs": [
    {
     "name": "stdout",
     "output_type": "stream",
     "text": [
      "Anomalies detectées: 9\n",
      "Normales : 298\n"
     ]
    }
   ],
   "source": [
    "print(\"Anomalies detectées:\",len(df[df[\"ANOMALY\"]==1]))\n",
    "print(\"Normales :\",len(df[df[\"ANOMALY\"]==0]))"
   ]
  },
  {
   "cell_type": "markdown",
   "id": "a1a99001-48e6-463c-b12c-3402ad403203",
   "metadata": {},
   "source": [
    "<p><u>Commentaires</u></p>\n",
    "<p> D'après les résultats fournis, voici une analyse comparative des performances des trois algorithmes de machine learning (KNN, arbre de décision et Naive Bayes) pour la détection de botnets :\n",
    "\n",
    "<u> Précision (Precision) </u> :\n",
    "KNN a une précision de 0.98 pour la classe 0 et une précision de 0.00 pour la classe 1.\n",
    "L'arbre de décision et le modèle Naive Bayes ont tous deux une précision de 0.99 pour la classe 0 et une précision de 1.00 pour la classe 1.\n",
    "Dans l'ensemble, tous les algorithmes ont une précision élevée pour la classe majoritaire (0), mais l'arbre de décision et Naive Bayes obtiennent également une précision parfaite pour la classe minoritaire (1).\n",
    "\n",
    "<u> Rappel (Recall) </u> :\n",
    "KNN a un rappel de 1.00 pour la classe 0 et un rappel de 0.00 pour la classe 1.\n",
    "L'arbre de décision et le modèle Naive Bayes ont tous deux un rappel de 1.00 pour la classe 0 et un rappel de 0.50 pour la classe 1.\n",
    "Le rappel mesure la capacité d'un modèle à identifier correctement les instances de chaque classe. Les performances de l'arbre de décision et de Naive Bayes sont similaires, mais KNN n'identifie pas correctement les instances de la classe 1.\n",
    "\n",
    "<u> F1-Score </u> :\n",
    "Le score F1 combine la précision et le rappel en une seule métrique. Il est calculé comme la moyenne harmonique de la précision et du rappel.\n",
    "Les scores F1 pour KNN, l'arbre de décision et Naive Bayes sont tous élevés pour la classe majoritaire (0), mais l'arbre de décision et Naive Bayes obtiennent également des scores élevés pour la classe minoritaire (1).\n",
    "\n",
    "<u> Accuracy (Exactitude) </u> :\n",
    "Tous les algorithmes ont une précision globale élevée, avec une accuracy de 0.98 pour KNN, et de 0.99 pour l'arbre de décision et Naive Bayes.\n",
    "L'accuracy mesure la proportion d'instances correctement classées par le modèle. </p>\n",
    "\n",
    "<u> Remarque </u>\n",
    "<p> Nous constatons que les algorithmes de Naive Bayes et d'arbre de décision sont plus performants car ils s'adaptent aux données indépendamment de la standardisation. Ce que le modèle KNN gère moins bien que les algorithmes de Naive Bayes et d'arbre de décision. </p>"
   ]
  }
 ],
 "metadata": {
  "kernelspec": {
   "display_name": "Python 3 (ipykernel)",
   "language": "python",
   "name": "python3"
  },
  "language_info": {
   "codemirror_mode": {
    "name": "ipython",
    "version": 3
   },
   "file_extension": ".py",
   "mimetype": "text/x-python",
   "name": "python",
   "nbconvert_exporter": "python",
   "pygments_lexer": "ipython3",
   "version": "3.11.5"
  },
  "widgets": {
   "application/vnd.jupyter.widget-state+json": {
    "state": {},
    "version_major": 2,
    "version_minor": 0
   }
  }
 },
 "nbformat": 4,
 "nbformat_minor": 5
}
